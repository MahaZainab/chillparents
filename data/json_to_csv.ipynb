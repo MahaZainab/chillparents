{
 "cells": [
  {
   "cell_type": "code",
   "execution_count": null,
   "metadata": {
    "vscode": {
     "languageId": "plaintext"
    }
   },
   "outputs": [],
   "source": []
  },
  {
   "cell_type": "code",
   "execution_count": null,
   "metadata": {
    "vscode": {
     "languageId": "plaintext"
    }
   },
   "outputs": [],
   "source": [
    "import json\n",
    "import csv\n",
    "\n",
    "# Path to your JSON file\n",
    "json_file_path = 'data.json'\n",
    "# Path where you want to save the CSV file\n",
    "csv_file_path = 'data.csv'\n",
    "\n",
    "# Read the JSON file\n",
    "with open(json_file_path, 'r', encoding='utf-8') as json_file:\n",
    "    data = []\n",
    "    for line in json_file:\n",
    "        data.append(json.loads(line))\n",
    "\n",
    "# Open the CSV file for writing\n",
    "with open(csv_file_path, 'w', newline='', encoding='utf-8') as csv_file:\n",
    "    fieldnames = ['Context', 'Response']  # CSV column headers\n",
    "    \n",
    "    writer = csv.DictWriter(csv_file, fieldnames=fieldnames)\n",
    "    \n",
    "    # Write the header row\n",
    "    writer.writeheader()\n",
    "\n",
    "    # Write each row from the JSON data\n",
    "    for entry in data:\n",
    "        writer.writerow({'Context': entry['Context'], 'Response': entry['Response']})\n",
    "\n",
    "print(f\"JSON file has been converted to CSV and saved as {csv_file_path}\")\n"
   ]
  }
 ],
 "metadata": {
  "language_info": {
   "name": "python"
  }
 },
 "nbformat": 4,
 "nbformat_minor": 2
}
